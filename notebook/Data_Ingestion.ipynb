{
 "cells": [
  {
   "cell_type": "markdown",
   "id": "961e2a6b",
   "metadata": {},
   "source": [
    "# Task 1: Data Ingestion and  Data Preprocessing"
   ]
  },
  {
   "cell_type": "code",
   "execution_count": 1,
   "id": "56142ac9",
   "metadata": {},
   "outputs": [],
   "source": [
    "import asyncio\n",
    "import nest_asyncio\n",
    "import pandas as pd\n",
    "import os\n",
    "import sys\n",
    "import matplotlib.pyplot as plt \n",
    "import seaborn as sns   \n",
    "sys.path.append(os.path.abspath(\"../scripts\"))\n",
    "import warnings\n",
    "warnings.filterwarnings('ignore')"
   ]
  },
  {
   "cell_type": "code",
   "execution_count": 2,
   "id": "8514dfc6",
   "metadata": {},
   "outputs": [],
   "source": [
    "os.chdir(\"..\") "
   ]
  },
  {
   "cell_type": "code",
   "execution_count": 3,
   "id": "577a4360",
   "metadata": {},
   "outputs": [],
   "source": [
    "from extract import client"
   ]
  },
  {
   "cell_type": "code",
   "execution_count": null,
   "id": "1e971996",
   "metadata": {},
   "outputs": [
    {
     "name": "stdout",
     "output_type": "stream",
     "text": [
      " Starting Amharic E-commerce Extractor...\n",
      "Listening to channels. Ctrl+C to stop.\n"
     ]
    }
   ],
   "source": [
    "nest_asyncio.apply()\n",
    "\n",
    "async def main():\n",
    "    print(\" Starting Amharic E-commerce Extractor...\")\n",
    "    await client.start()\n",
    "    print(\"Listening to channels. Ctrl+C to stop.\")\n",
    "    await client.run_until_disconnected()\n",
    "\n",
    "try:\n",
    "    asyncio.run(main())\n",
    "except KeyboardInterrupt:\n",
    "    print(\" Gracefully stopped.\")"
   ]
  }
 ],
 "metadata": {
  "kernelspec": {
   "display_name": "Python 3",
   "language": "python",
   "name": "python3"
  },
  "language_info": {
   "codemirror_mode": {
    "name": "ipython",
    "version": 3
   },
   "file_extension": ".py",
   "mimetype": "text/x-python",
   "name": "python",
   "nbconvert_exporter": "python",
   "pygments_lexer": "ipython3",
   "version": "3.11.0"
  }
 },
 "nbformat": 4,
 "nbformat_minor": 5
}
