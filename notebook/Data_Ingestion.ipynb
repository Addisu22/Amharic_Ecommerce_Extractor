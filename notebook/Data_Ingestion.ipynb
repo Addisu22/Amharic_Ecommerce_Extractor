{
 "cells": [
  {
   "cell_type": "markdown",
   "id": "961e2a6b",
   "metadata": {},
   "source": [
    "# Task 1: Data Ingestion and  Data Preprocessing"
   ]
  },
  {
   "cell_type": "code",
   "execution_count": 2,
   "id": "56142ac9",
   "metadata": {},
   "outputs": [],
   "source": [
    "import asyncio\n",
    "import nest_asyncio\n",
    "import pandas as pd\n",
    "import os\n",
    "import sys\n",
    "import matplotlib.pyplot as plt \n",
    "import seaborn as sns   \n",
    "sys.path.append(os.path.abspath(\"../scripts\"))\n",
    "import warnings\n",
    "warnings.filterwarnings('ignore')"
   ]
  },
  {
   "cell_type": "code",
   "execution_count": 3,
   "id": "577a4360",
   "metadata": {},
   "outputs": [
    {
     "ename": "SyntaxError",
     "evalue": "invalid syntax (config.py, line 8)",
     "output_type": "error",
     "traceback": [
      "Traceback \u001b[36m(most recent call last)\u001b[39m:\n",
      "  File \u001b[92m~\\AppData\\Roaming\\Python\\Python311\\site-packages\\IPython\\core\\interactiveshell.py:3672\u001b[39m in \u001b[95mrun_code\u001b[39m\n    exec(code_obj, self.user_global_ns, self.user_ns)\n",
      "  Cell \u001b[92mIn[3]\u001b[39m\u001b[92m, line 1\u001b[39m\n    from extract import client\n",
      "\u001b[36m  \u001b[39m\u001b[36mFile \u001b[39m\u001b[32md:\\KAIM 5,6,7\\Week-4\\Amharic_Ecommerce_Extractor\\scripts\\extract.py:5\u001b[39m\n\u001b[31m    \u001b[39m\u001b[31mfrom config import API_ID, API_HASH, SESSION, CHANNELS\u001b[39m\n",
      "  \u001b[36mFile \u001b[39m\u001b[32md:\\KAIM 5,6,7\\Week-4\\Amharic_Ecommerce_Extractor\\scripts\\config.py:8\u001b[39m\n\u001b[31m    \u001b[39m\u001b[31m'AwasMart',,\u001b[39m\n               ^\n\u001b[31mSyntaxError\u001b[39m\u001b[31m:\u001b[39m invalid syntax\n"
     ]
    }
   ],
   "source": [
    "from extract import client"
   ]
  }
 ],
 "metadata": {
  "kernelspec": {
   "display_name": "Python 3",
   "language": "python",
   "name": "python3"
  },
  "language_info": {
   "codemirror_mode": {
    "name": "ipython",
    "version": 3
   },
   "file_extension": ".py",
   "mimetype": "text/x-python",
   "name": "python",
   "nbconvert_exporter": "python",
   "pygments_lexer": "ipython3",
   "version": "3.11.0"
  }
 },
 "nbformat": 4,
 "nbformat_minor": 5
}
