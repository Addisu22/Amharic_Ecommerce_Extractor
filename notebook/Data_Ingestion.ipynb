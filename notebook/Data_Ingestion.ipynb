{
 "cells": [
  {
   "cell_type": "markdown",
   "id": "961e2a6b",
   "metadata": {},
   "source": [
    "# Task 1: Data Ingestion and  Data Preprocessing"
   ]
  },
  {
   "cell_type": "code",
   "execution_count": 19,
   "id": "56142ac9",
   "metadata": {},
   "outputs": [],
   "source": [
    "import asyncio\n",
    "import nest_asyncio\n",
    "import pandas as pd\n",
    "from telethon import TelegramClient\n",
    "from datetime import datetime, timedelta\n",
    "import re\n",
    "import os\n",
    "import sys\n",
    "import matplotlib.pyplot as plt \n",
    "import seaborn as sns   \n",
    "sys.path.append(os.path.abspath(\"../scripts\"))\n",
    "import warnings\n",
    "warnings.filterwarnings('ignore')"
   ]
  },
  {
   "cell_type": "code",
   "execution_count": 4,
   "id": "8514dfc6",
   "metadata": {},
   "outputs": [],
   "source": [
    "os.chdir(\"..\") "
   ]
  },
  {
   "cell_type": "code",
   "execution_count": 15,
   "id": "577a4360",
   "metadata": {},
   "outputs": [],
   "source": [
    "from config import api_id , api_hash, session_name, cutoff_date, channels"
   ]
  },
  {
   "cell_type": "code",
   "execution_count": 16,
   "id": "16d48048",
   "metadata": {},
   "outputs": [],
   "source": [
    "session_file = session_name + '.session'\n",
    "if os.path.exists(session_file):\n",
    "    os.remove(session_file)\n",
    "    print(f\"Deleted old session file {session_file}\")"
   ]
  },
  {
   "cell_type": "code",
   "execution_count": 20,
   "id": "80d38c67",
   "metadata": {},
   "outputs": [
    {
     "name": "stdout",
     "output_type": "stream",
     "text": [
      "✅ Telegram client started.\n",
      " Fetching from channel: EthioMart\n",
      " Fetching from channel: forfreemarket\n",
      " Fetching from channel: helloomarketethiopia\n",
      " Fetching from channel: classybrands\n",
      " Fetching from channel: kuruwear\n",
      "Saved 500 messages to Data/telegram_amharic_messages.csv\n",
      " Output data:\n",
      "     channel            timestamp      sender_id text\n",
      "0  EthioMart  2022-02-07 21:05:18 -1001204279885     \n",
      "1  EthioMart  2022-02-07 21:05:18 -1001204279885     \n",
      "2  EthioMart  2022-01-22 19:24:00 -1001204279885     \n",
      "3  EthioMart  2022-01-22 19:24:00 -1001204279885     \n",
      "4  EthioMart  2021-07-13 13:29:27 -1001204279885     \n",
      "5  EthioMart  2021-07-04 21:58:12 -1001204279885     \n",
      "6  EthioMart  2021-07-04 21:53:26 -1001204279885     \n",
      "7  EthioMart  2021-07-03 19:02:06 -1001204279885     \n",
      "8  EthioMart  2021-07-03 19:02:06 -1001204279885     \n",
      "9  EthioMart  2021-07-03 19:01:59 -1001204279885     \n"
     ]
    }
   ],
   "source": [
    "# 7. Amharic text cleaning function\n",
    "def clean_amharic(text):\n",
    "    if not text:\n",
    "        return \"\"\n",
    "    # Keep only Amharic unicode block and spaces\n",
    "    text = re.sub(r'[^\\u1200-\\u137F\\s]', '', text)\n",
    "    # Normalize multiple spaces to single space\n",
    "    return re.sub(r'\\s+', ' ', text).strip()\n",
    "\n",
    "# 8. Initialize Telegram client\n",
    "client = TelegramClient(session_name, api_id, api_hash)\n",
    "\n",
    "# 9. Async function to fetch and save data\n",
    "async def fetch_and_save_messages():\n",
    "    await client.start()\n",
    "    print(\"✅ Telegram client started.\")\n",
    "\n",
    "    all_records = []\n",
    "\n",
    "    for channel in channels:\n",
    "        print(f\" Fetching from channel: {channel}\")\n",
    "        try:\n",
    "            async for msg in client.iter_messages(channel, offset_date=cutoff_date, limit=100 ):\n",
    "                text = clean_amharic(msg.message or \"\")\n",
    "                record = {\n",
    "                    'channel': channel,\n",
    "                    'timestamp': msg.date.strftime('%Y-%m-%d %H:%M:%S'),\n",
    "                    'sender_id': msg.sender_id,\n",
    "                    'text': text,\n",
    "\n",
    "                }\n",
    "                all_records.append(record)\n",
    "        except Exception as e:\n",
    "            print(f\" Error fetching {channel}: {e}\")\n",
    "\n",
    "    # Create DataFrame and save to CSV\n",
    "    df = pd.DataFrame(all_records)\n",
    "    csv_path = \"Data/telegram_amharic_messages.csv\"\n",
    "    df.to_csv(csv_path, index=False, encoding='utf-8-sig')\n",
    "    print(f\"Saved {len(df)} messages to {csv_path}\")\n",
    "\n",
    "    # Show Output data\n",
    "    print(\" Output data:\")\n",
    "    print(df.head(10))\n",
    "\n",
    "# 10. Run the async function in notebook environment\n",
    "await fetch_and_save_messages()"
   ]
  }
 ],
 "metadata": {
  "kernelspec": {
   "display_name": "Python 3",
   "language": "python",
   "name": "python3"
  },
  "language_info": {
   "codemirror_mode": {
    "name": "ipython",
    "version": 3
   },
   "file_extension": ".py",
   "mimetype": "text/x-python",
   "name": "python",
   "nbconvert_exporter": "python",
   "pygments_lexer": "ipython3",
   "version": "3.11.0"
  }
 },
 "nbformat": 4,
 "nbformat_minor": 5
}
