{
 "cells": [
  {
   "cell_type": "markdown",
   "id": "5a1c3bf8",
   "metadata": {},
   "source": [
    "# Task 5: Model Interpretability"
   ]
  },
  {
   "cell_type": "code",
   "execution_count": null,
   "id": "5c11d84d",
   "metadata": {},
   "outputs": [
    {
     "name": "stdout",
     "output_type": "stream",
     "text": [
      "Note: you may need to restart the kernel to use updated packages.\n"
     ]
    },
    {
     "name": "stderr",
     "output_type": "stream",
     "text": [
      "\n",
      "[notice] A new release of pip available: 22.3 -> 25.1.1\n",
      "[notice] To update, run: python.exe -m pip install --upgrade pip\n"
     ]
    }
   ],
   "source": [
    "%pip install transformers shap lime torch --quiet"
   ]
  },
  {
   "cell_type": "code",
   "execution_count": 2,
   "id": "add356ec",
   "metadata": {},
   "outputs": [],
   "source": [
    "import torch\n",
    "import shap\n",
    "import numpy as np\n",
    "from transformers import AutoTokenizer, AutoModelForTokenClassification, pipeline\n",
    "from lime.lime_text import LimeTextExplainer\n",
    "import matplotlib.pyplot as plt"
   ]
  },
  {
   "cell_type": "code",
   "execution_count": 9,
   "id": "dea26290",
   "metadata": {},
   "outputs": [
    {
     "ename": "NameError",
     "evalue": "name 'model' is not defined",
     "output_type": "error",
     "traceback": [
      "\u001b[31m---------------------------------------------------------------------------\u001b[39m",
      "\u001b[31mNameError\u001b[39m                                 Traceback (most recent call last)",
      "\u001b[36mCell\u001b[39m\u001b[36m \u001b[39m\u001b[32mIn[9]\u001b[39m\u001b[32m, line 5\u001b[39m\n\u001b[32m      2\u001b[39m model_path = \u001b[33m\"\u001b[39m\u001b[33mamharic-ner-model\u001b[39m\u001b[33m\"\u001b[39m  \u001b[38;5;66;03m# Replace with your saved path\u001b[39;00m\n\u001b[32m      3\u001b[39m \u001b[38;5;66;03m# tokenizer = AutoTokenizer.from_pretrained(model_path)\u001b[39;00m\n\u001b[32m      4\u001b[39m \u001b[38;5;66;03m# model = AutoModelForTokenClassification.from_pretrained(model_path)\u001b[39;00m\n\u001b[32m----> \u001b[39m\u001b[32m5\u001b[39m \u001b[43mmodel\u001b[49m.eval()\n\u001b[32m      7\u001b[39m \u001b[38;5;66;03m# Create NER pipeline for predictions\u001b[39;00m\n\u001b[32m      8\u001b[39m ner_pipe = pipeline(\u001b[33m\"\u001b[39m\u001b[33mner\u001b[39m\u001b[33m\"\u001b[39m, model=model, tokenizer=tokenizer, aggregation_strategy=\u001b[33m\"\u001b[39m\u001b[33msimple\u001b[39m\u001b[33m\"\u001b[39m)\n",
      "\u001b[31mNameError\u001b[39m: name 'model' is not defined"
     ]
    }
   ],
   "source": [
    "# Load your fine-tuned model and tokenizer\n",
    "model_path = \"amharic-ner-model\"  # Replace with your saved path\n",
    "# tokenizer = AutoTokenizer.from_pretrained(model_path)\n",
    "# model = AutoModelForTokenClassification.from_pretrained(model_path)\n",
    "model.eval()\n",
    "\n",
    "# Create NER pipeline for predictions\n",
    "ner_pipe = pipeline(\"ner\", model=model, tokenizer=tokenizer, aggregation_strategy=\"simple\")\n",
    "\n",
    "# Sample input\n",
    "text = \"የመለኪያ ሳሙና በ150 ብር በአዲስ አበባ ይሸጣል።\"\n",
    "\n",
    "# ------------ SHAP Visualization ------------\n",
    "print(\"SHAP Interpretation\")\n",
    "def shap_predict(texts):\n",
    "    probs = []\n",
    "    for t in texts:\n",
    "        inputs = tokenizer(t, return_tensors=\"pt\", truncation=True)\n",
    "        with torch.no_grad():\n",
    "            outputs = model(**inputs).logits\n",
    "        probs.append(torch.nn.functional.softmax(outputs, dim=-1)[0].mean(dim=0).cpu().numpy())\n",
    "    return np.array(probs)\n",
    "\n",
    "try:\n",
    "    shap_explainer = shap.Explainer(shap_predict, tokenizer)\n",
    "    shap_values = shap_explainer([text])\n",
    "    shap.plots.text(shap_values[0])\n",
    "except Exception as e:\n",
    "    print(f\"[SHAP ERROR] {e}\")\n",
    "\n",
    "# ------------ LIME Visualization ------------\n",
    "print(\" LIME Interpretation\")\n",
    "\n",
    "def lime_predict(texts):\n",
    "    results = []\n",
    "    for t in texts:\n",
    "        inputs = tokenizer(t, return_tensors=\"pt\", truncation=True, padding=True)\n",
    "        with torch.no_grad():\n",
    "            logits = model(**inputs).logits\n",
    "        probs = torch.nn.functional.softmax(logits, dim=-1)[0].mean(dim=0).numpy()\n",
    "        results.append(probs)\n",
    "    return np.array(results)\n",
    "\n",
    "try:\n",
    "    class_names = list(model.config.id2label.values())\n",
    "    lime_explainer = LimeTextExplainer(class_names=class_names)\n",
    "    lime_exp = lime_explainer.explain_instance(text, lime_predict, num_features=8)\n",
    "    lime_exp.show_in_notebook(text=True)\n",
    "except Exception as e:\n",
    "    print(f\"[LIME ERROR] {e}\")\n",
    "\n",
    "# Show model output for context\n",
    "print(\" Model NER Prediction:\")\n",
    "for ent in ner_pipe(text):\n",
    "    print(ent)"
   ]
  }
 ],
 "metadata": {
  "kernelspec": {
   "display_name": "Python 3",
   "language": "python",
   "name": "python3"
  },
  "language_info": {
   "codemirror_mode": {
    "name": "ipython",
    "version": 3
   },
   "file_extension": ".py",
   "mimetype": "text/x-python",
   "name": "python",
   "nbconvert_exporter": "python",
   "pygments_lexer": "ipython3",
   "version": "3.11.0"
  }
 },
 "nbformat": 4,
 "nbformat_minor": 5
}
