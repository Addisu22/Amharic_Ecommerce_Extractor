{
 "cells": [
  {
   "cell_type": "markdown",
   "id": "942ea898",
   "metadata": {},
   "source": [
    "# Task 2 : Label a Subset of Dataset in CoNLL Format"
   ]
  },
  {
   "cell_type": "code",
   "execution_count": 3,
   "id": "882227a1",
   "metadata": {},
   "outputs": [],
   "source": [
    "import pandas as pd\n",
    "import os\n",
    "import sys\n",
    "import matplotlib.pyplot as plt \n",
    "import seaborn as sns   \n",
    "sys.path.append(os.path.abspath(\"../scripts\"))\n",
    "import warnings\n",
    "warnings.filterwarnings('ignore')"
   ]
  },
  {
   "cell_type": "code",
   "execution_count": 4,
   "id": "11c8ad32",
   "metadata": {},
   "outputs": [],
   "source": [
    "os.chdir(\"..\") "
   ]
  },
  {
   "cell_type": "code",
   "execution_count": null,
   "id": "afb714ce",
   "metadata": {},
   "outputs": [
    {
     "name": "stdout",
     "output_type": "stream",
     "text": [
      "\n",
      "Message 1/3\n",
      "\n",
      "--- Labeling new message ---\n",
      "ፎርኤቨር ብራይት፦ ለጥርስዎ ጥንካሬ ፅዳት እና ንጣት በአንድ የያዘ ከሬት እና ማር የተቀመመ የ ምርት ነው\n",
      "----------------------------\n"
     ]
    },
    {
     "name": "stdout",
     "output_type": "stream",
     "text": [
      "\n",
      "Message 2/3\n",
      "\n",
      "--- Labeling new message ---\n",
      "አሎይ ስቲክ ዲዬድራንት፦ ሽታን ያጠፋል የብብት ጥቁረትን ያጠፋል መዓዛው ልዩ ነው የ ምርት ነው\n",
      "----------------------------\n",
      "\n",
      "Message 3/3\n",
      "\n",
      "--- Labeling new message ---\n",
      "አሎይ ሊፕስ፦ ጥሩ መዓዛ ያለው ከንፈርን ለማለስለስ እና እንዳይደርቅ ያግዛል የ ምርት ነው\n",
      "----------------------------\n",
      "\n",
      "Saved labeled data for 3 messages to 'labeled_data.conll'\n"
     ]
    }
   ],
   "source": [
    "# Load your dataset CSV file\n",
    "df = pd.read_csv(\"Data/telegram_amharic_messages.csv\")  # Adjust path if needed\n",
    "\n",
    "# Number of messages to label\n",
    "num_messages = 3\n",
    "\n",
    "# Entity label options (you will input one of these per token)\n",
    "valid_labels = ['B-Product', 'I-Product', 'B-LOC', 'I-LOC', 'B-PRICE', 'I-PRICE', 'O']\n",
    "\n",
    "def label_token(token):\n",
    "    while True:\n",
    "        label = input(f\"Label for token '{token}' (B-Product, I-Product, B-LOC, I-LOC, B-PRICE, I-PRICE, O): \").strip()\n",
    "        if label in valid_labels:\n",
    "            return label\n",
    "        else:\n",
    "            print(f\"Invalid label '{label}'. Please enter a valid label.\")\n",
    "\n",
    "def label_message(message):\n",
    "    tokens = message.split()\n",
    "    labeled_tokens = []\n",
    "    print(\"\\n--- Labeling new message ---\")\n",
    "    print(message)\n",
    "    print(\"----------------------------\")\n",
    "    for token in tokens:\n",
    "        label = label_token(token)\n",
    "        labeled_tokens.append((token, label))\n",
    "    return labeled_tokens\n",
    "\n",
    "def save_to_conll(labeled_messages, filepath):\n",
    "    with open(filepath, 'w', encoding='utf-8') as f:\n",
    "        for message in labeled_messages:\n",
    "            for token, label in message:\n",
    "                f.write(f\"{token} {label}\\n\")\n",
    "            f.write(\"\\n\")  # Blank line between messages\n",
    "\n",
    "def main():\n",
    "    labeled_messages = []\n",
    "    try:\n",
    "        for i, message in enumerate(df['text'].dropna().head(num_messages)):\n",
    "            print(f\"\\nMessage {i+1}/{num_messages}\")\n",
    "            labeled_message = label_message(message)\n",
    "            labeled_messages.append(labeled_message)\n",
    "    except KeyboardInterrupt:\n",
    "        print(\"\\nLabeling interrupted by user. Saving progress...\")\n",
    "\n",
    "    output_file = \"Amharic_data.conll\"\n",
    "    save_to_conll(labeled_messages, output_file)\n",
    "    print(f\"\\nSaved Amharic data for {len(labeled_messages)} messages to '{output_file}'\")\n",
    "\n",
    "if __name__ == \"__main__\":\n",
    "    main()"
   ]
  }
 ],
 "metadata": {
  "kernelspec": {
   "display_name": "Python 3",
   "language": "python",
   "name": "python3"
  },
  "language_info": {
   "codemirror_mode": {
    "name": "ipython",
    "version": 3
   },
   "file_extension": ".py",
   "mimetype": "text/x-python",
   "name": "python",
   "nbconvert_exporter": "python",
   "pygments_lexer": "ipython3",
   "version": "3.11.0"
  }
 },
 "nbformat": 4,
 "nbformat_minor": 5
}
