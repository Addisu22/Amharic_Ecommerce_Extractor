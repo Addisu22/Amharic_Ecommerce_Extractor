{
 "cells": [
  {
   "cell_type": "markdown",
   "id": "e0efce84",
   "metadata": {},
   "source": [
    "# Task 4: Model Comparison & Selection"
   ]
  },
  {
   "cell_type": "code",
   "execution_count": 2,
   "id": "2cef0880",
   "metadata": {},
   "outputs": [],
   "source": [
    "# %pip install transformers datasets seqeval"
   ]
  },
  {
   "cell_type": "code",
   "execution_count": 2,
   "id": "07865a63",
   "metadata": {},
   "outputs": [],
   "source": [
    "from transformers import AutoTokenizer, AutoModelForTokenClassification, Trainer, TrainingArguments, DataCollatorForTokenClassification\n",
    "from datasets import load_dataset\n",
    "import numpy as np\n",
    "import pandas as pd\n",
    "from seqeval.metrics import f1_score\n",
    "import warnings\n",
    "\n",
    "warnings.filterwarnings(\"ignore\")"
   ]
  },
  {
   "cell_type": "code",
   "execution_count": 3,
   "id": "a31567af",
   "metadata": {},
   "outputs": [
    {
     "name": "stdout",
     "output_type": "stream",
     "text": [
      " Fine-tuning XLM-Roberta...\n",
      " Fine-tuning DistilBERT...\n"
     ]
    },
    {
     "ename": "",
     "evalue": "",
     "output_type": "error",
     "traceback": [
      "\u001b[1;31mThe Kernel crashed while executing code in the current cell or a previous cell. \n",
      "\u001b[1;31mPlease review the code in the cell(s) to identify a possible cause of the failure. \n",
      "\u001b[1;31mClick <a href='https://aka.ms/vscodeJupyterKernelCrash'>here</a> for more info. \n",
      "\u001b[1;31mView Jupyter <a href='command:jupyter.viewOutput'>log</a> for further details."
     ]
    }
   ],
   "source": [
    "# 1. Load CoNLL NER Dataset\n",
    "dataset = load_dataset(\"conll2003\", trust_remote_code=True)\n",
    "label_list = dataset[\"train\"].features[\"ner_tags\"].feature.names\n",
    "label2id = {l: i for i, l in enumerate(label_list)}\n",
    "id2label = {i: l for l, i in label2id.items()}\n",
    "\n",
    "# 2. Tokenization and label alignment\n",
    "def tokenize_and_align(example, tokenizer):\n",
    "    tokenized = tokenizer(example[\"tokens\"], truncation=True, is_split_into_words=True)\n",
    "    word_ids = tokenized.word_ids()\n",
    "    labels = []\n",
    "    prev_word = None\n",
    "    for idx in word_ids:\n",
    "        if idx is None:\n",
    "            labels.append(-100)\n",
    "        elif idx != prev_word:\n",
    "            labels.append(example[\"ner_tags\"][idx])\n",
    "        else:\n",
    "            labels.append(-100)\n",
    "        prev_word = idx\n",
    "    tokenized[\"labels\"] = labels\n",
    "    return tokenized\n",
    "\n",
    "# 3. Models to compare\n",
    "model_names = {\n",
    "    \"XLM-Roberta\": \"xlm-roberta-base\",\n",
    "    \"DistilBERT\": \"distilbert-base-multilingual-cased\",\n",
    "    \"mBERT\": \"bert-base-multilingual-cased\"\n",
    "}\n",
    "\n",
    "results = []\n",
    "\n",
    "# 4. Train and evaluate each model\n",
    "for name, model_ckpt in model_names.items():\n",
    "    try:\n",
    "        print(f\" Fine-tuning {name}...\")\n",
    "        tokenizer = AutoTokenizer.from_pretrained(model_ckpt)\n",
    "        model = AutoModelForTokenClassification.from_pretrained(\n",
    "            model_ckpt, num_labels=len(label_list), id2label=id2label, label2id=label2id\n",
    "        )\n",
    "\n",
    "        # Tokenize a small subset for quick test\n",
    "        tokenized_dataset = dataset.map(lambda x: tokenize_and_align(x, tokenizer), batched=True)\n",
    "        tokenized_dataset = tokenized_dataset.remove_columns(['id', 'pos_tags', 'chunk_tags', 'ner_tags'])\n",
    "\n",
    "        # Define Trainer\n",
    "        args = TrainingArguments(\n",
    "            output_dir=f\"./results_{name.replace(' ', '_')}\",\n",
    "            evaluation_strategy=\"epoch\",\n",
    "            learning_rate=2e-5,\n",
    "            per_device_train_batch_size=8,\n",
    "            per_device_eval_batch_size=8,\n",
    "            num_train_epochs=1,\n",
    "            weight_decay=0.01,\n",
    "            save_strategy=\"no\",\n",
    "            logging_dir=\"./logs\"\n",
    "        )\n",
    "\n",
    "        def compute_metrics(p):\n",
    "            preds = np.argmax(p.predictions, axis=2)\n",
    "            labels = p.label_ids\n",
    "            true_preds, true_labels = [], []\n",
    "            for p_row, l_row in zip(preds, labels):\n",
    "                preds_clean = []\n",
    "                labels_clean = []\n",
    "                for p_, l_ in zip(p_row, l_row):\n",
    "                    if l_ != -100:\n",
    "                        preds_clean.append(id2label[p_])\n",
    "                        labels_clean.append(id2label[l_])\n",
    "                true_preds.append(preds_clean)\n",
    "                true_labels.append(labels_clean)\n",
    "            return {\"f1\": f1_score(true_labels, true_preds)}\n",
    "\n",
    "        trainer = Trainer(\n",
    "            model=model,\n",
    "            args=args,\n",
    "            train_dataset=tokenized_dataset[\"train\"].select(range(200)),  # quick demo\n",
    "            eval_dataset=tokenized_dataset[\"validation\"].select(range(100)),\n",
    "            tokenizer=tokenizer,\n",
    "            data_collator=DataCollatorForTokenClassification(tokenizer),\n",
    "            compute_metrics=compute_metrics\n",
    "        )\n",
    "\n",
    "        trainer.train()\n",
    "        eval_result = trainer.evaluate()\n",
    "        results.append({\"Model\": name, \"F1 Score\": round(eval_result['eval_f1'], 4)})\n",
    "\n",
    "    except Exception as e:\n",
    "        results.append({\"Model\": name, \"F1 Score\": f\"Error: {str(e)}\"})\n",
    "\n",
    "# 5. Show summary\n",
    "summary = pd.DataFrame(results)\n",
    "summary = summary.sort_values(by=\"F1 Score\", ascending=False, key=lambda x: pd.to_numeric(x, errors='coerce'))\n",
    "print(\"Model Comparison Summary:\\n\")\n",
    "print(summary.to_string(index=False))"
   ]
  }
 ],
 "metadata": {
  "kernelspec": {
   "display_name": "Python 3",
   "language": "python",
   "name": "python3"
  },
  "language_info": {
   "codemirror_mode": {
    "name": "ipython",
    "version": 3
   },
   "file_extension": ".py",
   "mimetype": "text/x-python",
   "name": "python",
   "nbconvert_exporter": "python",
   "pygments_lexer": "ipython3",
   "version": "3.11.0"
  }
 },
 "nbformat": 4,
 "nbformat_minor": 5
}
